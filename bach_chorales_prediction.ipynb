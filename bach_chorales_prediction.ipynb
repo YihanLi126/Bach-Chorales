{
 "cells": [
  {
   "cell_type": "code",
   "execution_count": null,
   "metadata": {},
   "outputs": [],
   "source": []
  }
 ],
 "metadata": {
  "kernelspec": {
   "display_name": "myEnv",
   "language": "python",
   "name": "python3"
  },
  "language_info": {
   "name": "python",
   "version": "3.6.2 |Anaconda, Inc.| (default, Oct  5 2017, 03:00:07) \n[GCC 4.2.1 Compatible Clang 4.0.1 (tags/RELEASE_401/final)]"
  },
  "orig_nbformat": 4,
  "vscode": {
   "interpreter": {
    "hash": "c1de6da87d64de62af7fe5089c9349388835a32609fb6cd2bb2bb0bb7e8036ec"
   }
  }
 },
 "nbformat": 4,
 "nbformat_minor": 2
}
